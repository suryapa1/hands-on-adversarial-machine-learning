{
 "cells": [
  {
   "cell_type": "markdown",
   "metadata": {},
   "source": [
    "# Monotonic Classifiers\n",
    "Brief description\n",
    "## Imports and Definitions"
   ]
  },
  {
   "cell_type": "code",
   "execution_count": 196,
   "metadata": {},
   "outputs": [],
   "source": [
    "import os\n",
    "import sys\n",
    "import fnmatch\n",
    "import random\n",
    "import itertools\n",
    "\n",
    "from sklearn.feature_extraction.text import TfidfVectorizer\n",
    "from sklearn.linear_model import LogisticRegression, Lasso\n",
    "from sklearn.model_selection import cross_val_score, cross_val_predict\n",
    "from sklearn.externals import joblib\n",
    "import numpy as np\n",
    "import pandas as pd\n",
    "import seaborn\n",
    "import matplotlib.pyplot as plt\n",
    "\n",
    "## utils\n",
    "def rwalk(directory, pattern):\n",
    "    \"\"\"Recursively search \"directory\" for files that match the Unix shell-style\n",
    "    wildcard given by \"pattern\" (like '*.mp3'). Returns matches as a generator.\"\"\"\n",
    "    for root, dirnames, filenames in os.walk(directory):\n",
    "        for filename in fnmatch.filter(filenames, pattern):\n",
    "            yield os.path.join(root, filename)\n",
    "\n",
    "def gettraces(benignpath='../data/01-monotonic-classifiers/benign-traces',\n",
    "              malpath='../data/01-monotonic-classifiers/malicious-traces'):\n",
    "    return list(rwalk(malpath, '*.trace')), list(rwalk(benignpath, '*.trace'))\n",
    "\n",
    "def get_random_malicious_trace(malpath='../data/01-monotonic-classifiers/malicious-traces'):\n",
    "    mal, _ = gettraces(malpath=malpath)\n",
    "    with open(random.choice(mal)) as f:\n",
    "        return f.read()\n",
    "\n",
    "def vectorize(featurename,\n",
    "              featuredir='../data/01-monotonic-classifiers/feature-vectors'):\n",
    "    pos_traces, neg_traces = gettraces()\n",
    "    pos_y = [1 for _ in pos_traces]\n",
    "    neg_y = [0 for _ in neg_traces]\n",
    "    docs = [open(x).read() for x in pos_traces + neg_traces]\n",
    "    y = np.array(pos_y + neg_y)\n",
    "    \n",
    "    vectorizer = TfidfVectorizer()\n",
    "    X = vectorizer.fit_transform(docs)\n",
    "    terms = np.asarray(vectorizer.get_feature_names())\n",
    "    # Save feature vectors and metadata\n",
    "    with open(os.path.join(featuredir, featurename), 'wb') as f:\n",
    "        np.savez(f, X=X, y=y, terms=terms, vectorizer=vectorizer)\n",
    "    return X, y, terms, vectorizer\n",
    "\n",
    "X, y, terms, vectorizer = vectorize('foo.npz')"
   ]
  },
  {
   "cell_type": "code",
   "execution_count": 197,
   "metadata": {},
   "outputs": [
    {
     "data": {
      "text/plain": [
       "<2000x16 sparse matrix of type '<class 'numpy.float64'>'\n",
       "\twith 32000 stored elements in Compressed Sparse Row format>"
      ]
     },
     "execution_count": 197,
     "metadata": {},
     "output_type": "execute_result"
    }
   ],
   "source": [
    "X"
   ]
  },
  {
   "cell_type": "code",
   "execution_count": 73,
   "metadata": {},
   "outputs": [
    {
     "data": {
      "text/plain": [
       "array(['ntcreateprocessex', 'ntcreatethreadex', 'ntcreateuserprocess',\n",
       "       'ntdisplaystring', 'ntdrawtext', 'ntmodifybootentry', 'ntopenfile',\n",
       "       'ntopenkeyex', 'ntopentimer', 'ntquerydirectoryfile', 'ntreadfile',\n",
       "       'ntsavekeyex', 'ntsettimerex', 'ntwritefile', 'regcreatekeyex',\n",
       "       'regsavekeyex'],\n",
       "      dtype='<U20')"
      ]
     },
     "execution_count": 73,
     "metadata": {},
     "output_type": "execute_result"
    }
   ],
   "source": [
    "terms"
   ]
  },
  {
   "cell_type": "code",
   "execution_count": 198,
   "metadata": {},
   "outputs": [],
   "source": [
    "def savemodel(clf, modeldir, name, csvname):\n",
    "    date = csvname.split('-')[0]\n",
    "    modelname = '%s.model' % csvname.replace('.csv', '')\n",
    "    modeldir = os.path.join(modeldir, name)\n",
    "    modelpath = os.path.join(modeldir, modelname)\n",
    "    try:\n",
    "        os.mkdir(modeldir)\n",
    "    except OSError:\n",
    "        pass\n",
    "    joblib.dump(clf, modelpath)\n",
    "    sys.stderr.write('Model saved to %s\\n' % os.path.join(modeldir, modelname))\n",
    "\n",
    "def _heatmap(crosstab):\n",
    "    plt.clf()\n",
    "    p = seaborn.heatmap(crosstab, square=True)\n",
    "    plt.tight_layout()\n",
    "    plt.show()\n",
    "\n",
    "def _cv(X, y, k, name, clf, csvname, modeldir=None, terms=None, resultdir=None):\n",
    "    print('## %s' % name)\n",
    "    print('### Cross Validation')\n",
    "    print('`%s`' % str(cross_val_score(clf, X, y, cv=k)))\n",
    "    print('### CV Confusion Matrix')\n",
    "    y_pred = cross_val_predict(clf, X, y, cv=k)\n",
    "    print('```')\n",
    "    print(pd.crosstab(y, y_pred, rownames=['True'], colnames=['Predicted']))\n",
    "    print('```')\n",
    "\n",
    "    if resultdir:\n",
    "        heatmapdir = os.path.join(resultdir, csvname.replace('.csv', ''))\n",
    "        try:\n",
    "            os.mkdir(heatmapdir)\n",
    "        except OSError:\n",
    "            pass\n",
    "        _heatmap(pd.crosstab(y, y_pred, rownames=['True'], colnames=['Predicted'],\n",
    "                             normalize='index'))\n",
    "\n",
    "    if modeldir:\n",
    "        clf.fit(X, y)\n",
    "        savemodel(clf, modeldir, name, csvname)\n",
    "\n",
    "        if hasattr(clf, 'coef_') and terms is not None:\n",
    "            print(\"### Top 10 keywords per class:\")\n",
    "            #for i, category in enumerate(clf.classes_):\n",
    "                #top10 = np.argsort(clf.coef_[i])[-10:]\n",
    "                #print(\"* %s: `%s`\" % (category, \", \".join(terms[top10])))\n",
    "            print('')\n",
    "            \n",
    "    return clf"
   ]
  },
  {
   "cell_type": "code",
   "execution_count": 192,
   "metadata": {
    "scrolled": true
   },
   "outputs": [
    {
     "name": "stdout",
     "output_type": "stream",
     "text": [
      "## name\n",
      "### Cross Validation\n",
      "`[ 1.  1.  1.  1.  1.  1.  1.  1.  1.  1.]`\n",
      "### CV Confusion Matrix\n",
      "```\n",
      "Predicted     0     1\n",
      "True                 \n",
      "0          1000     0\n",
      "1             0  1000\n",
      "```\n"
     ]
    },
    {
     "data": {
      "image/png": "[encoded data removed]",
      "text/plain": [
       "<Figure size 432x288 with 2 Axes>"
      ]
     },
     "metadata": {
      "needs_background": "light"
     },
     "output_type": "display_data"
    },
    {
     "name": "stderr",
     "output_type": "stream",
     "text": [
      "Model saved to ../work/name/foo.model\n"
     ]
    },
    {
     "name": "stdout",
     "output_type": "stream",
     "text": [
      "### Top 10 keywords per class:\n",
      "\n",
      "## name\n",
      "### Cross Validation\n",
      "`[ 0.  0.  0.  0.  0.  0.  0.  0.  0.  0.]`\n",
      "### CV Confusion Matrix\n",
      "```\n",
      "Predicted  0.444444  0.555556\n",
      "True                         \n",
      "0                 0      1000\n",
      "1              1000         0\n",
      "```\n"
     ]
    },
    {
     "data": {
      "image/png": "[encoded data removed]",
      "text/plain": [
       "<Figure size 432x288 with 2 Axes>"
      ]
     },
     "metadata": {
      "needs_background": "light"
     },
     "output_type": "display_data"
    },
    {
     "name": "stdout",
     "output_type": "stream",
     "text": [
      "### Top 10 keywords per class:\n",
      "\n"
     ]
    },
    {
     "name": "stderr",
     "output_type": "stream",
     "text": [
      "Model saved to ../work/name/foo.model\n"
     ]
    }
   ],
   "source": [
    "clf = _cv(X, y, 10, 'name', LogisticRegression(solver='lbfgs'), 'foo.csv', modeldir='../work', terms=terms, resultdir='../work')\n",
    "adv_clf = _cv(X, y, 10, 'name', Lasso(), 'foo.csv', modeldir='../work', terms=terms, resultdir='../work')"
   ]
  },
  {
   "cell_type": "code",
   "execution_count": 94,
   "metadata": {},
   "outputs": [
    {
     "data": {
      "text/plain": [
       "array([0, 1])"
      ]
     },
     "execution_count": 94,
     "metadata": {},
     "output_type": "execute_result"
    }
   ],
   "source": [
    "clf.classes_"
   ]
  },
  {
   "cell_type": "code",
   "execution_count": 101,
   "metadata": {},
   "outputs": [
    {
     "data": {
      "text/plain": [
       "array([ 2.24482262,  2.24424061, -2.14186277, -2.13967196, -2.1405273 ,\n",
       "        2.24523331, -2.13965475, -2.13854639, -2.13845327, -2.1407568 ,\n",
       "       -2.14462209,  2.24613296,  2.24276795,  0.10771154,  2.24801507,\n",
       "        2.2431061 ])"
      ]
     },
     "execution_count": 101,
     "metadata": {},
     "output_type": "execute_result"
    }
   ],
   "source": [
    "clf.coef_[0]"
   ]
  },
  {
   "cell_type": "code",
   "execution_count": 98,
   "metadata": {},
   "outputs": [
    {
     "data": {
      "text/plain": [
       "array(['ntcreateprocessex', 'ntcreatethreadex', 'ntcreateuserprocess',\n",
       "       'ntdisplaystring', 'ntdrawtext', 'ntmodifybootentry', 'ntopenfile',\n",
       "       'ntopenkeyex', 'ntopentimer', 'ntquerydirectoryfile', 'ntreadfile',\n",
       "       'ntsavekeyex', 'ntsettimerex', 'ntwritefile', 'regcreatekeyex',\n",
       "       'regsavekeyex'],\n",
       "      dtype='<U20')"
      ]
     },
     "execution_count": 98,
     "metadata": {},
     "output_type": "execute_result"
    }
   ],
   "source": [
    "terms"
   ]
  },
  {
   "cell_type": "code",
   "execution_count": 116,
   "metadata": {},
   "outputs": [
    {
     "data": {
      "text/plain": [
       "[(2.244822624665078, 'ntcreateprocessex'),\n",
       " (2.2442406107176378, 'ntcreatethreadex'),\n",
       " (-2.1418627669686781, 'ntcreateuserprocess'),\n",
       " (-2.139671958251073, 'ntdisplaystring'),\n",
       " (-2.1405272962289352, 'ntdrawtext'),\n",
       " (2.2452333134082001, 'ntmodifybootentry'),\n",
       " (-2.1396547495478839, 'ntopenfile'),\n",
       " (-2.1385463916610488, 'ntopenkeyex'),\n",
       " (-2.1384532744136902, 'ntopentimer'),\n",
       " (-2.140756798461291, 'ntquerydirectoryfile'),\n",
       " (-2.1446220879737208, 'ntreadfile'),\n",
       " (2.2461329578438169, 'ntsavekeyex'),\n",
       " (2.2427679460606038, 'ntsettimerex'),\n",
       " (0.1077115444337042, 'ntwritefile'),\n",
       " (2.2480150712142422, 'regcreatekeyex'),\n",
       " (2.2431060978323192, 'regsavekeyex')]"
      ]
     },
     "execution_count": 116,
     "metadata": {},
     "output_type": "execute_result"
    }
   ],
   "source": [
    "# to solutions\n",
    "list(zip(clf.coef_[0], terms))"
   ]
  },
  {
   "cell_type": "code",
   "execution_count": 119,
   "metadata": {},
   "outputs": [
    {
     "data": {
      "text/plain": [
       "array([ 0.,  0., -0., -0., -0.,  0., -0., -0., -0., -0., -0.,  0.,  0.,\n",
       "        0.,  0.,  0.])"
      ]
     },
     "execution_count": 119,
     "metadata": {},
     "output_type": "execute_result"
    }
   ],
   "source": [
    "adv_clf.coef_"
   ]
  },
  {
   "cell_type": "code",
   "execution_count": 131,
   "metadata": {},
   "outputs": [],
   "source": [
    "foo = get_random_malicious_trace()"
   ]
  },
  {
   "cell_type": "code",
   "execution_count": 174,
   "metadata": {},
   "outputs": [],
   "source": [
    "v1 = vectorizer.transform([foo])\n",
    "v2 = vectorizer.transform([foo + '\\n' + '\\n'.join(itertools.repeat('ntdisplaystring', 17759))])"
   ]
  },
  {
   "cell_type": "code",
   "execution_count": 175,
   "metadata": {},
   "outputs": [
    {
     "data": {
      "text/plain": [
       "<1x16 sparse matrix of type '<class 'numpy.float64'>'\n",
       "\twith 16 stored elements in Compressed Sparse Row format>"
      ]
     },
     "execution_count": 175,
     "metadata": {},
     "output_type": "execute_result"
    }
   ],
   "source": [
    "v1"
   ]
  },
  {
   "cell_type": "code",
   "execution_count": 176,
   "metadata": {},
   "outputs": [
    {
     "data": {
      "text/plain": [
       "<1x16 sparse matrix of type '<class 'numpy.float64'>'\n",
       "\twith 16 stored elements in Compressed Sparse Row format>"
      ]
     },
     "execution_count": 176,
     "metadata": {},
     "output_type": "execute_result"
    }
   ],
   "source": [
    "v2"
   ]
  },
  {
   "cell_type": "code",
   "execution_count": 177,
   "metadata": {},
   "outputs": [
    {
     "data": {
      "text/plain": [
       "array([1])"
      ]
     },
     "execution_count": 177,
     "metadata": {},
     "output_type": "execute_result"
    }
   ],
   "source": [
    "clf.predict(v1)"
   ]
  },
  {
   "cell_type": "code",
   "execution_count": 178,
   "metadata": {},
   "outputs": [
    {
     "data": {
      "text/plain": [
       "array([0])"
      ]
     },
     "execution_count": 178,
     "metadata": {},
     "output_type": "execute_result"
    }
   ],
   "source": [
    "clf.predict(v2)"
   ]
  },
  {
   "cell_type": "code",
   "execution_count": 179,
   "metadata": {},
   "outputs": [
    {
     "data": {
      "text/plain": [
       "17759"
      ]
     },
     "execution_count": 179,
     "metadata": {},
     "output_type": "execute_result"
    }
   ],
   "source": [
    "len(foo.split())"
   ]
  },
  {
   "cell_type": "code",
   "execution_count": 181,
   "metadata": {},
   "outputs": [],
   "source": [
    "# to solutions?\n",
    "def gen_adversarial_sample(path):\n",
    "    with open(path) as f:\n",
    "        s = f.read()\n",
    "        numsyscalls = len(s.split())\n",
    "        s_benign = s + '\\n' + '\\n'.join(itertools.repeat('ntdisplaystring', numsyscalls))\n",
    "        return s, s_benign"
   ]
  },
  {
   "cell_type": "code",
   "execution_count": 182,
   "metadata": {},
   "outputs": [
    {
     "name": "stdout",
     "output_type": "stream",
     "text": [
      "186656\n",
      "390128\n"
     ]
    }
   ],
   "source": [
    "s, s_benign = gen_adversarial_sample('../data/01-monotonic-classifiers/malicious-traces/0999.trace')\n",
    "print(len(s))\n",
    "print(len(s_benign))"
   ]
  },
  {
   "cell_type": "code",
   "execution_count": 191,
   "metadata": {},
   "outputs": [
    {
     "data": {
      "text/plain": [
       "array([1, 0])"
      ]
     },
     "execution_count": 191,
     "metadata": {},
     "output_type": "execute_result"
    }
   ],
   "source": [
    "# she works!\n",
    "clf.predict(vectorizer.transform([s, s_benign]))"
   ]
  },
  {
   "cell_type": "code",
   "execution_count": 188,
   "metadata": {},
   "outputs": [
    {
     "data": {
      "text/plain": [
       "'NtCreateTh'"
      ]
     },
     "execution_count": 188,
     "metadata": {},
     "output_type": "execute_result"
    }
   ],
   "source": [
    "foo[:10]"
   ]
  },
  {
   "cell_type": "code",
   "execution_count": null,
   "metadata": {},
   "outputs": [],
   "source": []
  }
 ],
 "metadata": {
  "kernelspec": {
   "display_name": "Python 3",
   "language": "python",
   "name": "python3"
  },
  "language_info": {
   "codemirror_mode": {
    "name": "ipython",
    "version": 3
   },
   "file_extension": ".py",
   "mimetype": "text/x-python",
   "name": "python",
   "nbconvert_exporter": "python",
   "pygments_lexer": "ipython3",
   "version": "3.6.7"
  }
 },
 "nbformat": 4,
 "nbformat_minor": 2
}
